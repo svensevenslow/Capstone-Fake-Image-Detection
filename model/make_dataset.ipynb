{
 "cells": [
  {
   "cell_type": "code",
   "execution_count": 6,
   "metadata": {},
   "outputs": [],
   "source": [
    "import os\n",
    "import csv"
   ]
  },
  {
   "cell_type": "code",
   "execution_count": 7,
   "metadata": {},
   "outputs": [],
   "source": [
    "au_path=\"C:\\\\Users\\\\Aman Dhamija\\\\fake_image_major\\\\casia-dataset\\\\CASIA2\\\\Au\" #path to authentic images directory\n",
    "tp_path=\"C:\\\\Users\\\\Aman Dhamija\\\\fake_image_major\\\\casia-dataset\\\\CASIA2\\\\Tp\" #path to tampered images directory"
   ]
  },
  {
   "cell_type": "code",
   "execution_count": 9,
   "metadata": {},
   "outputs": [],
   "source": [
    "def save_au(au_path):\n",
    "    with open('dataset.csv', mode='w',newline='') as dataset_file:\n",
    "        file_writer=csv.writer(dataset_file,delimiter=',')\n",
    "        for f in os.listdir(au_path):\n",
    "            if f.endswith('.jpg') or f.endswith('.png'):\n",
    "                file_writer.writerow([os.path.join(au_path,f),0]) #authentic images are labelled as 0\n",
    "        "
   ]
  },
  {
   "cell_type": "code",
   "execution_count": 10,
   "metadata": {},
   "outputs": [],
   "source": [
    "def save_tp(tp_path):\n",
    "    with open('dataset.csv', mode='a',newline='') as dataset_file:\n",
    "        file_writer=csv.writer(dataset_file,delimiter=',')\n",
    "        for f in os.listdir(tp_path):\n",
    "            if f.endswith('.jpg') or f.endswith('.png'):\n",
    "                file_writer.writerow([os.path.join(tp_path,f),1]) #authentic images are labelled as 1\n",
    "    "
   ]
  },
  {
   "cell_type": "code",
   "execution_count": 11,
   "metadata": {},
   "outputs": [],
   "source": [
    "save_au(au_path)"
   ]
  },
  {
   "cell_type": "code",
   "execution_count": 12,
   "metadata": {},
   "outputs": [],
   "source": [
    "save_tp(tp_path)"
   ]
  },
  {
   "cell_type": "code",
   "execution_count": null,
   "metadata": {},
   "outputs": [],
   "source": []
  }
 ],
 "metadata": {
  "kernelspec": {
   "display_name": "condaVenv",
   "language": "python",
   "name": "condavenv"
  },
  "language_info": {
   "codemirror_mode": {
    "name": "ipython",
    "version": 3
   },
   "file_extension": ".py",
   "mimetype": "text/x-python",
   "name": "python",
   "nbconvert_exporter": "python",
   "pygments_lexer": "ipython3",
   "version": "3.7.6"
  }
 },
 "nbformat": 4,
 "nbformat_minor": 4
}
